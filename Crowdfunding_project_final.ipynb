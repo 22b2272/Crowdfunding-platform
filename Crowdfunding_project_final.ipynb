{
  "nbformat": 4,
  "nbformat_minor": 0,
  "metadata": {
    "colab": {
      "provenance": []
    },
    "kernelspec": {
      "name": "python3",
      "display_name": "Python 3"
    },
    "language_info": {
      "name": "python"
    }
  },
  "cells": [
    {
      "cell_type": "code",
      "source": [
        "!pip install web3 py-solc-x eth-tester\n",
        "!python -m solcx.install v0.8.0"
      ],
      "metadata": {
        "colab": {
          "base_uri": "https://localhost:8080/"
        },
        "id": "PaYTm_YrKELx",
        "outputId": "13dbba7b-4942-459a-c59d-7c1651ffd8c5"
      },
      "execution_count": 15,
      "outputs": [
        {
          "output_type": "stream",
          "name": "stdout",
          "text": [
            "Requirement already satisfied: web3 in /usr/local/lib/python3.11/dist-packages (7.12.1)\n",
            "Requirement already satisfied: py-solc-x in /usr/local/lib/python3.11/dist-packages (2.0.4)\n",
            "Requirement already satisfied: eth-tester in /usr/local/lib/python3.11/dist-packages (0.13.0b1)\n",
            "Requirement already satisfied: eth-abi>=5.0.1 in /usr/local/lib/python3.11/dist-packages (from web3) (5.2.0)\n",
            "Requirement already satisfied: eth-account>=0.13.6 in /usr/local/lib/python3.11/dist-packages (from web3) (0.13.7)\n",
            "Requirement already satisfied: eth-hash>=0.5.1 in /usr/local/lib/python3.11/dist-packages (from eth-hash[pycryptodome]>=0.5.1->web3) (0.7.1)\n",
            "Requirement already satisfied: eth-typing>=5.0.0 in /usr/local/lib/python3.11/dist-packages (from web3) (5.2.1)\n",
            "Requirement already satisfied: eth-utils>=5.0.0 in /usr/local/lib/python3.11/dist-packages (from web3) (5.3.0)\n",
            "Requirement already satisfied: hexbytes>=1.2.0 in /usr/local/lib/python3.11/dist-packages (from web3) (1.3.1)\n",
            "Requirement already satisfied: aiohttp>=3.7.4.post0 in /usr/local/lib/python3.11/dist-packages (from web3) (3.12.14)\n",
            "Requirement already satisfied: pydantic>=2.4.0 in /usr/local/lib/python3.11/dist-packages (from web3) (2.11.7)\n",
            "Requirement already satisfied: requests>=2.23.0 in /usr/local/lib/python3.11/dist-packages (from web3) (2.32.3)\n",
            "Requirement already satisfied: typing-extensions>=4.0.1 in /usr/local/lib/python3.11/dist-packages (from web3) (4.14.1)\n",
            "Requirement already satisfied: types-requests>=2.0.0 in /usr/local/lib/python3.11/dist-packages (from web3) (2.32.4.20250611)\n",
            "Requirement already satisfied: websockets<16.0.0,>=10.0.0 in /usr/local/lib/python3.11/dist-packages (from web3) (15.0.1)\n",
            "Requirement already satisfied: pyunormalize>=15.0.0 in /usr/local/lib/python3.11/dist-packages (from web3) (16.0.0)\n",
            "Requirement already satisfied: packaging>=23.1 in /usr/local/lib/python3.11/dist-packages (from py-solc-x) (25.0)\n",
            "Requirement already satisfied: eth-keys>=0.4.0 in /usr/local/lib/python3.11/dist-packages (from eth-tester) (0.7.0)\n",
            "Requirement already satisfied: rlp>=3.0.0 in /usr/local/lib/python3.11/dist-packages (from eth-tester) (4.1.0)\n",
            "Requirement already satisfied: semantic_version>=2.6.0 in /usr/local/lib/python3.11/dist-packages (from eth-tester) (2.10.0)\n",
            "Requirement already satisfied: aiohappyeyeballs>=2.5.0 in /usr/local/lib/python3.11/dist-packages (from aiohttp>=3.7.4.post0->web3) (2.6.1)\n",
            "Requirement already satisfied: aiosignal>=1.4.0 in /usr/local/lib/python3.11/dist-packages (from aiohttp>=3.7.4.post0->web3) (1.4.0)\n",
            "Requirement already satisfied: attrs>=17.3.0 in /usr/local/lib/python3.11/dist-packages (from aiohttp>=3.7.4.post0->web3) (25.3.0)\n",
            "Requirement already satisfied: frozenlist>=1.1.1 in /usr/local/lib/python3.11/dist-packages (from aiohttp>=3.7.4.post0->web3) (1.7.0)\n",
            "Requirement already satisfied: multidict<7.0,>=4.5 in /usr/local/lib/python3.11/dist-packages (from aiohttp>=3.7.4.post0->web3) (6.6.3)\n",
            "Requirement already satisfied: propcache>=0.2.0 in /usr/local/lib/python3.11/dist-packages (from aiohttp>=3.7.4.post0->web3) (0.3.2)\n",
            "Requirement already satisfied: yarl<2.0,>=1.17.0 in /usr/local/lib/python3.11/dist-packages (from aiohttp>=3.7.4.post0->web3) (1.20.1)\n",
            "Requirement already satisfied: parsimonious<0.11.0,>=0.10.0 in /usr/local/lib/python3.11/dist-packages (from eth-abi>=5.0.1->web3) (0.10.0)\n",
            "Requirement already satisfied: bitarray>=2.4.0 in /usr/local/lib/python3.11/dist-packages (from eth-account>=0.13.6->web3) (3.6.0)\n",
            "Requirement already satisfied: eth-keyfile<0.9.0,>=0.7.0 in /usr/local/lib/python3.11/dist-packages (from eth-account>=0.13.6->web3) (0.8.1)\n",
            "Requirement already satisfied: eth-rlp>=2.1.0 in /usr/local/lib/python3.11/dist-packages (from eth-account>=0.13.6->web3) (2.2.0)\n",
            "Requirement already satisfied: ckzg>=2.0.0 in /usr/local/lib/python3.11/dist-packages (from eth-account>=0.13.6->web3) (2.1.1)\n",
            "Requirement already satisfied: pycryptodome<4,>=3.6.6 in /usr/local/lib/python3.11/dist-packages (from eth-hash[pycryptodome]>=0.5.1->web3) (3.23.0)\n",
            "Requirement already satisfied: cytoolz>=0.10.1 in /usr/local/lib/python3.11/dist-packages (from eth-utils>=5.0.0->web3) (1.0.1)\n",
            "Requirement already satisfied: annotated-types>=0.6.0 in /usr/local/lib/python3.11/dist-packages (from pydantic>=2.4.0->web3) (0.7.0)\n",
            "Requirement already satisfied: pydantic-core==2.33.2 in /usr/local/lib/python3.11/dist-packages (from pydantic>=2.4.0->web3) (2.33.2)\n",
            "Requirement already satisfied: typing-inspection>=0.4.0 in /usr/local/lib/python3.11/dist-packages (from pydantic>=2.4.0->web3) (0.4.1)\n",
            "Requirement already satisfied: charset-normalizer<4,>=2 in /usr/local/lib/python3.11/dist-packages (from requests>=2.23.0->web3) (3.4.2)\n",
            "Requirement already satisfied: idna<4,>=2.5 in /usr/local/lib/python3.11/dist-packages (from requests>=2.23.0->web3) (3.10)\n",
            "Requirement already satisfied: urllib3<3,>=1.21.1 in /usr/local/lib/python3.11/dist-packages (from requests>=2.23.0->web3) (2.5.0)\n",
            "Requirement already satisfied: certifi>=2017.4.17 in /usr/local/lib/python3.11/dist-packages (from requests>=2.23.0->web3) (2025.7.14)\n",
            "Requirement already satisfied: toolz>=0.8.0 in /usr/local/lib/python3.11/dist-packages (from cytoolz>=0.10.1->eth-utils>=5.0.0->web3) (0.12.1)\n",
            "Requirement already satisfied: regex>=2022.3.15 in /usr/local/lib/python3.11/dist-packages (from parsimonious<0.11.0,>=0.10.0->eth-abi>=5.0.1->web3) (2024.11.6)\n",
            "<frozen runpy>:128: RuntimeWarning: 'solcx.install' found in sys.modules after import of package 'solcx', but prior to execution of 'solcx.install'; this may result in unpredictable behaviour\n"
          ]
        }
      ]
    },
    {
      "cell_type": "markdown",
      "source": [
        "**WEEK 5 AND WEEK 6**"
      ],
      "metadata": {
        "id": "q8opmv1OKERG"
      }
    },
    {
      "cell_type": "code",
      "source": [
        "from solcx import compile_source, set_solc_version\n",
        "from web3 import Web3\n",
        "import json\n",
        "import time\n",
        "\n",
        "# Start Ganache i.e.in-memory blockchain\n",
        "!npm install -g ganache\n",
        "import subprocess\n",
        "ganache_process = subprocess.Popen([\"ganache\", \"--port\", \"8545\", \"--quiet\"])\n",
        "\n",
        "\n",
        "time.sleep(3)\n",
        "\n",
        "\n",
        "w3 = Web3(Web3.HTTPProvider(\"http://127.0.0.1:8545\"))\n",
        "w3.eth.default_account = w3.eth.accounts[0]\n",
        "\n",
        "print(f\"Connected: {w3.is_connected()}\")\n",
        "print(f\"Accounts: {w3.eth.accounts}\")\n",
        "print(f\"Balance: {w3.from_wei(w3.eth.get_balance(w3.eth.accounts[0]), 'ether')} ETH\")"
      ],
      "metadata": {
        "colab": {
          "base_uri": "https://localhost:8080/"
        },
        "id": "6yi_x-yGKGH3",
        "outputId": "74942d83-1a01-4f7a-a7ca-2fe86c2fdc45"
      },
      "execution_count": 22,
      "outputs": [
        {
          "output_type": "stream",
          "name": "stdout",
          "text": [
            "\u001b[1G\u001b[0K⠙\u001b[1G\u001b[0K⠹\u001b[1G\u001b[0K⠸\u001b[1G\u001b[0K⠼\u001b[1G\u001b[0K⠴\u001b[1G\u001b[0K⠦\u001b[1G\u001b[0K⠧\u001b[1G\u001b[0K⠇\u001b[1G\u001b[0K⠏\u001b[1G\u001b[0K⠋\u001b[1G\u001b[0K⠙\u001b[1G\u001b[0K⠹\u001b[1G\u001b[0K⠸\u001b[1G\u001b[0K⠼\u001b[1G\u001b[0K⠴\u001b[1G\u001b[0K⠦\u001b[1G\u001b[0K⠧\u001b[1G\u001b[0K⠇\u001b[1G\u001b[0K⠏\u001b[1G\u001b[0K⠋\u001b[1G\u001b[0K⠙\u001b[1G\u001b[0K⠹\u001b[1G\u001b[0K⠸\u001b[1G\u001b[0K⠼\u001b[1G\u001b[0K⠴\u001b[1G\u001b[0K⠦\u001b[1G\u001b[0K⠧\u001b[1G\u001b[0K⠇\u001b[1G\u001b[0K⠏\u001b[1G\u001b[0K⠋\u001b[1G\u001b[0K⠙\u001b[1G\u001b[0K⠹\u001b[1G\u001b[0K⠸\u001b[1G\u001b[0K⠼\u001b[1G\u001b[0K⠴\u001b[1G\u001b[0K⠦\u001b[1G\u001b[0K⠧\u001b[1G\u001b[0K⠇\u001b[1G\u001b[0K⠏\u001b[1G\u001b[0K⠋\u001b[1G\u001b[0K⠙\u001b[1G\u001b[0K⠹\u001b[1G\u001b[0K⠸\u001b[1G\u001b[0K⠼\u001b[1G\u001b[0K⠴\u001b[1G\u001b[0K⠦\u001b[1G\u001b[0K⠧\u001b[1G\u001b[0K⠇\u001b[1G\u001b[0K⠏\u001b[1G\u001b[0K⠋\u001b[1G\u001b[0K⠙\u001b[1G\u001b[0K⠹\u001b[1G\u001b[0K⠸\u001b[1G\u001b[0K⠼\u001b[1G\u001b[0K⠴\u001b[1G\u001b[0K⠦\u001b[1G\u001b[0K⠧\u001b[1G\u001b[0K⠇\u001b[1G\u001b[0K⠏\u001b[1G\u001b[0K⠋\u001b[1G\u001b[0K⠙\u001b[1G\u001b[0K⠹\u001b[1G\u001b[0K⠸\u001b[1G\u001b[0K⠼\u001b[1G\u001b[0K⠴\u001b[1G\u001b[0K⠦\u001b[1G\u001b[0K⠧\u001b[1G\u001b[0K⠇\u001b[1G\u001b[0K⠏\u001b[1G\u001b[0K⠋\u001b[1G\u001b[0K⠙\u001b[1G\u001b[0K⠹\u001b[1G\u001b[0K⠸\u001b[1G\u001b[0K⠼\u001b[1G\u001b[0K⠴\u001b[1G\u001b[0K⠦\u001b[1G\u001b[0K⠧\u001b[1G\u001b[0K⠇\u001b[1G\u001b[0K⠏\u001b[1G\u001b[0K⠋\u001b[1G\u001b[0K⠙\u001b[1G\u001b[0K⠹\u001b[1G\u001b[0K⠸\u001b[1G\u001b[0K⠼\u001b[1G\u001b[0K⠴\u001b[1G\u001b[0K⠦\u001b[1G\u001b[0K⠧\u001b[1G\u001b[0K⠇\u001b[1G\u001b[0K⠏\u001b[1G\u001b[0K⠋\u001b[1G\u001b[0K⠙\u001b[1G\u001b[0K⠹\u001b[1G\u001b[0K⠸\u001b[1G\u001b[0K⠼\u001b[1G\u001b[0K⠴\u001b[1G\u001b[0K⠦\u001b[1G\u001b[0K⠧\u001b[1G\u001b[0K⠇\u001b[1G\u001b[0K⠏\u001b[1G\u001b[0K⠋\u001b[1G\u001b[0K⠙\u001b[1G\u001b[0K⠹\u001b[1G\u001b[0K⠸\u001b[1G\u001b[0K⠼\u001b[1G\u001b[0K⠴\u001b[1G\u001b[0K⠦\u001b[1G\u001b[0K⠧\u001b[1G\u001b[0K⠇\u001b[1G\u001b[0K⠏\u001b[1G\u001b[0K⠋\u001b[1G\u001b[0K⠙\u001b[1G\u001b[0K⠹\u001b[1G\u001b[0K⠸\u001b[1G\u001b[0K⠼\u001b[1G\u001b[0K⠴\u001b[1G\u001b[0K⠦\u001b[1G\u001b[0K⠧\u001b[1G\u001b[0K⠇\u001b[1G\u001b[0K⠏\u001b[1G\u001b[0K⠋\u001b[1G\u001b[0K⠙\u001b[1G\u001b[0K⠹\u001b[1G\u001b[0K⠸\u001b[1G\u001b[0K⠼\u001b[1G\u001b[0K⠴\u001b[1G\u001b[0K⠦\u001b[1G\u001b[0K⠧\u001b[1G\u001b[0K⠇\u001b[1G\u001b[0K⠏\u001b[1G\u001b[0K⠋\u001b[1G\u001b[0K⠙\u001b[1G\u001b[0K⠹\u001b[1G\u001b[0K⠸\u001b[1G\u001b[0K⠼\u001b[1G\u001b[0K⠴\u001b[1G\u001b[0K⠦\u001b[1G\u001b[0K⠧\u001b[1G\u001b[0K⠇\u001b[1G\u001b[0K⠏\u001b[1G\u001b[0K⠋\u001b[1G\u001b[0K⠙\u001b[1G\u001b[0K⠹\u001b[1G\u001b[0K⠸\u001b[1G\u001b[0K⠼\u001b[1G\u001b[0K⠴\u001b[1G\u001b[0K⠦\u001b[1G\u001b[0K⠧\u001b[1G\u001b[0K⠇\u001b[1G\u001b[0K⠏\u001b[1G\u001b[0K\n",
            "added 336 packages in 15s\n",
            "\u001b[1G\u001b[0K⠏\u001b[1G\u001b[0K\n",
            "\u001b[1G\u001b[0K⠏\u001b[1G\u001b[0K6 packages are looking for funding\n",
            "\u001b[1G\u001b[0K⠏\u001b[1G\u001b[0K  run `npm fund` for details\n",
            "\u001b[1G\u001b[0K⠏\u001b[1G\u001b[0KConnected: True\n",
            "Accounts: ['0xa33CF0c4DeDa373483cBB60f59f7AD7Fcbc28262', '0x734244C41DBa69bcCf52EE646aA9Fa105281002e', '0x0C90ad688fA5fBddC0195685631342DfE5113bf0', '0x9a4567cd19387D98cf1b19895490a83df53B8716', '0xFC592C5416B77F6c63fd847B6F78f9a6e4540729', '0x94a148276460fc80938021b7f6C8aFdc4c8E1175', '0x9d8510bB6b391044A761057879B56Fd91E9D994C', '0x13185335572e061F0eeAcB4237F519dBb9360dCA', '0x7f654D655dDa2c4897F03A3504be5644223a9ED5', '0x0F0C2fA686f8A86d6bd21b840ec190c84A12314c']\n",
            "Balance: 1000 ETH\n"
          ]
        }
      ]
    },
    {
      "cell_type": "code",
      "source": [
        "contract_source = \"\"\"\n",
        "// SPDX-License-Identifier: MIT\n",
        "pragma solidity ^0.8.0;\n",
        "\n",
        "contract Crowdfunding {\n",
        "    uint public campaignCount;\n",
        "\n",
        "    struct Campaign {\n",
        "        address creator;\n",
        "        string title;\n",
        "        uint goal;\n",
        "        uint deadline;\n",
        "        uint amountRaised;\n",
        "        bool completed;\n",
        "    }\n",
        "\n",
        "    mapping(uint => Campaign) public campaigns;\n",
        "    mapping(uint => mapping(address => uint)) public contributions;\n",
        "\n",
        "    event CampaignCreated(uint campaignId, address creator, string title, uint goal);\n",
        "    event Contributed(uint campaignId, address contributor, uint amount);\n",
        "    event Completed(uint campaignId, uint amountRaised);\n",
        "\n",
        "    function createCampaign(string memory title, uint goal, uint duration) public {\n",
        "        campaignCount++;\n",
        "        campaigns[campaignCount] = Campaign({\n",
        "            creator: msg.sender,\n",
        "            title: title,\n",
        "            goal: goal,\n",
        "            deadline: block.timestamp + duration,\n",
        "            amountRaised: 0,\n",
        "            completed: false\n",
        "        });\n",
        "        emit CampaignCreated(campaignCount, msg.sender, title, goal);\n",
        "    }\n",
        "\n",
        "    function contribute(uint campaignId) public payable {\n",
        "        Campaign storage campaign = campaigns[campaignId];\n",
        "        require(!campaign.completed, \"Campaign completed\");\n",
        "        require(block.timestamp < campaign.deadline, \"Campaign expired\");\n",
        "\n",
        "        campaign.amountRaised += msg.value;\n",
        "        contributions[campaignId][msg.sender] += msg.value;\n",
        "        emit Contributed(campaignId, msg.sender, msg.value);\n",
        "    }\n",
        "\n",
        "    function completeCampaign(uint campaignId) public {\n",
        "        Campaign storage campaign = campaigns[campaignId];\n",
        "        require(block.timestamp >= campaign.deadline, \"Deadline not reached\");\n",
        "        campaign.completed = true;\n",
        "        emit Completed(campaignId, campaign.amountRaised);\n",
        "    }\n",
        "\n",
        "    function getCampaignDetails(uint campaignId) public view returns (\n",
        "        address creator,\n",
        "        string memory title,\n",
        "        uint goal,\n",
        "        uint deadline,\n",
        "        uint amountRaised,\n",
        "        bool completed\n",
        "    ) {\n",
        "        Campaign memory campaign = campaigns[campaignId];\n",
        "        return (\n",
        "            campaign.creator,\n",
        "            campaign.title,\n",
        "            campaign.goal,\n",
        "            campaign.deadline,\n",
        "            campaign.amountRaised,\n",
        "            campaign.completed\n",
        "        );\n",
        "    }\n",
        "}\n",
        "\"\"\""
      ],
      "metadata": {
        "id": "STKnMjCDKJSo"
      },
      "execution_count": 23,
      "outputs": []
    },
    {
      "cell_type": "code",
      "source": [
        "# Compile contract\n",
        "compiled = compile_source(contract_source)\n",
        "contract_interface = compiled['<stdin>:Crowdfunding']\n",
        "\n",
        "\n",
        "tx_hash = w3.eth.contract(\n",
        "    abi=contract_interface['abi'],\n",
        "    bytecode=contract_interface['bin']\n",
        ").constructor().transact({\n",
        "    'from': w3.eth.accounts[0],\n",
        "    'gas': 3000000\n",
        "})\n",
        "\n",
        "tx_receipt = w3.eth.wait_for_transaction_receipt(tx_hash)\n",
        "contract_address = tx_receipt.contractAddress\n",
        "\n",
        "# Create contract instance\n",
        "crowdfunding = w3.eth.contract(\n",
        "    address=contract_address,\n",
        "    abi=contract_interface['abi']\n",
        ")\n",
        "\n",
        "print(f\" Contract successfully deployed at: {contract_address}\")\n",
        "print(f\"Transaction receipt: {dict(tx_receipt)}\")"
      ],
      "metadata": {
        "colab": {
          "base_uri": "https://localhost:8080/"
        },
        "id": "4CRN9F8JKNgr",
        "outputId": "9d9dce20-7e25-492d-f5d9-d6e4aad5f28d"
      },
      "execution_count": 24,
      "outputs": [
        {
          "output_type": "stream",
          "name": "stdout",
          "text": [
            "✅ Contract successfully deployed at: 0xA5C54A27a142e7220D996633fd710a06bC8ccb11\n",
            "Transaction receipt: {'transactionHash': HexBytes('0xb2f33bc1a581d5554f98583612e7045b851061738d0c9f4d90a758fbb07bebc6'), 'transactionIndex': 0, 'blockNumber': 1, 'blockHash': HexBytes('0x554a84617d8a4b1c07758913eabfa5f4ec7f7467ef204ec041a6c490ac2b9c34'), 'from': '0xa33CF0c4DeDa373483cBB60f59f7AD7Fcbc28262', 'to': None, 'cumulativeGasUsed': 910231, 'gasUsed': 910231, 'contractAddress': '0xA5C54A27a142e7220D996633fd710a06bC8ccb11', 'logs': [], 'logsBloom': HexBytes('0x00000000000000000000000000000000000000000000000000000000000000000000000000000000000000000000000000000000000000000000000000000000000000000000000000000000000000000000000000000000000000000000000000000000000000000000000000000000000000000000000000000000000000000000000000000000000000000000000000000000000000000000000000000000000000000000000000000000000000000000000000000000000000000000000000000000000000000000000000000000000000000000000000000000000000000000000000000000000000000000000000000000000000000000000000000000'), 'status': 1, 'effectiveGasPrice': 1107421875, 'type': 2}\n"
          ]
        }
      ]
    },
    {
      "cell_type": "code",
      "source": [
        "\n",
        "print(\"\\nVerifying deployment:\")\n",
        "print(f\"Campaign count: {crowdfunding.functions.campaignCount().call()} (should be 0)\")\n",
        "\n",
        "# Testing- creating a campaign\n",
        "tx_hash = crowdfunding.functions.createCampaign(\n",
        "    \"Test Campaign\",\n",
        "    w3.to_wei(1, 'ether'),\n",
        "    300  # 5 min duration\n",
        ").transact()\n",
        "w3.eth.wait_for_transaction_receipt(tx_hash)\n",
        "\n",
        "print(f\"\\nCampaign count: {crowdfunding.functions.campaignCount().call()} (should be 1)\")\n",
        "\n",
        "\n",
        "details = crowdfunding.functions.getCampaignDetails(1).call()\n",
        "print(\"\\nCampaign details:\")\n",
        "print(f\"Title: {details[1]}\")\n",
        "print(f\"Goal: {w3.from_wei(details[2], 'ether')} ETH\")\n",
        "print(f\"Deadline: {details[3]}\")"
      ],
      "metadata": {
        "colab": {
          "base_uri": "https://localhost:8080/"
        },
        "id": "QziHvq5uKah3",
        "outputId": "e7904515-2070-4cbc-d953-34ee8a0be1fe"
      },
      "execution_count": 25,
      "outputs": [
        {
          "output_type": "stream",
          "name": "stdout",
          "text": [
            "\n",
            "Verifying deployment:\n",
            "Campaign count: 0 (should be 0)\n",
            "\n",
            "Campaign count: 1 (should be 1)\n",
            "\n",
            "Campaign details:\n",
            "Title: Test Campaign\n",
            "Goal: 1 ETH\n",
            "Deadline: 1754212135\n"
          ]
        }
      ]
    },
    {
      "cell_type": "markdown",
      "source": [
        "**WEEK 8**"
      ],
      "metadata": {
        "id": "AlAu7XjeOZMs"
      }
    },
    {
      "cell_type": "code",
      "source": [
        "# Run this in Colab to generate a disposable test wallet\n",
        "from web3 import Web3\n",
        "import secrets\n",
        "\n",
        "private_key = \"0x\" + secrets.token_hex(32)\n",
        "account = Web3().eth.account.from_key(private_key)\n",
        "\n",
        "print(\"🔐 TEST WALLET (FOR GOERLI ONLY)\")\n",
        "print(f\"Address: {account.address}\")\n",
        "print(f\"Private Key: {private_key}\")\n",
        "\n",
        "print(\"\\n⚠️ WARNING: Never use this for real funds! Only for testing.\")"
      ],
      "metadata": {
        "colab": {
          "base_uri": "https://localhost:8080/"
        },
        "id": "NeY2YiwCL71j",
        "outputId": "e75664f1-a4fa-4c6e-d338-dc54da1e6a72"
      },
      "execution_count": 31,
      "outputs": [
        {
          "output_type": "stream",
          "name": "stdout",
          "text": [
            "🔐 TEST WALLET (FOR GOERLI ONLY)\n",
            "Address: 0xb1503a23D17348fa4cAD4398c868158DbF358f85\n",
            "Private Key: 0x6bc3d031406c56bcbf5ea86fcb6a30d9320ccff63a57b8a3bc507e52dd40886c\n",
            "\n",
            "⚠️ WARNING: Never use this for real funds! Only for testing.\n"
          ]
        },
        {
          "output_type": "stream",
          "name": "stderr",
          "text": [
            "<frozen importlib._bootstrap>:1047: ImportWarning: _PyDriveImportHook.find_spec() not found; falling back to find_module()\n"
          ]
        }
      ]
    },
    {
      "cell_type": "code",
      "source": [
        "# Install required packages (run this first)\n",
        "!pip install web3 py-solc-x python-dotenv\n",
        "!python -m solcx.install v0.8.0"
      ],
      "metadata": {
        "colab": {
          "base_uri": "https://localhost:8080/"
        },
        "id": "FNAhORgwPX7t",
        "outputId": "faeb838c-0bb1-40f8-eca2-8fd28fb7e5f8"
      },
      "execution_count": 32,
      "outputs": [
        {
          "output_type": "stream",
          "name": "stdout",
          "text": [
            "Requirement already satisfied: web3 in /usr/local/lib/python3.11/dist-packages (7.12.1)\n",
            "Requirement already satisfied: py-solc-x in /usr/local/lib/python3.11/dist-packages (2.0.4)\n",
            "Collecting python-dotenv\n",
            "  Downloading python_dotenv-1.1.1-py3-none-any.whl.metadata (24 kB)\n",
            "Requirement already satisfied: eth-abi>=5.0.1 in /usr/local/lib/python3.11/dist-packages (from web3) (5.2.0)\n",
            "Requirement already satisfied: eth-account>=0.13.6 in /usr/local/lib/python3.11/dist-packages (from web3) (0.13.7)\n",
            "Requirement already satisfied: eth-hash>=0.5.1 in /usr/local/lib/python3.11/dist-packages (from eth-hash[pycryptodome]>=0.5.1->web3) (0.7.1)\n",
            "Requirement already satisfied: eth-typing>=5.0.0 in /usr/local/lib/python3.11/dist-packages (from web3) (5.2.1)\n",
            "Requirement already satisfied: eth-utils>=5.0.0 in /usr/local/lib/python3.11/dist-packages (from web3) (5.3.0)\n",
            "Requirement already satisfied: hexbytes>=1.2.0 in /usr/local/lib/python3.11/dist-packages (from web3) (1.3.1)\n",
            "Requirement already satisfied: aiohttp>=3.7.4.post0 in /usr/local/lib/python3.11/dist-packages (from web3) (3.12.14)\n",
            "Requirement already satisfied: pydantic>=2.4.0 in /usr/local/lib/python3.11/dist-packages (from web3) (2.11.7)\n",
            "Requirement already satisfied: requests>=2.23.0 in /usr/local/lib/python3.11/dist-packages (from web3) (2.32.3)\n",
            "Requirement already satisfied: typing-extensions>=4.0.1 in /usr/local/lib/python3.11/dist-packages (from web3) (4.14.1)\n",
            "Requirement already satisfied: types-requests>=2.0.0 in /usr/local/lib/python3.11/dist-packages (from web3) (2.32.4.20250611)\n",
            "Requirement already satisfied: websockets<16.0.0,>=10.0.0 in /usr/local/lib/python3.11/dist-packages (from web3) (15.0.1)\n",
            "Requirement already satisfied: pyunormalize>=15.0.0 in /usr/local/lib/python3.11/dist-packages (from web3) (16.0.0)\n",
            "Requirement already satisfied: packaging>=23.1 in /usr/local/lib/python3.11/dist-packages (from py-solc-x) (25.0)\n",
            "Requirement already satisfied: aiohappyeyeballs>=2.5.0 in /usr/local/lib/python3.11/dist-packages (from aiohttp>=3.7.4.post0->web3) (2.6.1)\n",
            "Requirement already satisfied: aiosignal>=1.4.0 in /usr/local/lib/python3.11/dist-packages (from aiohttp>=3.7.4.post0->web3) (1.4.0)\n",
            "Requirement already satisfied: attrs>=17.3.0 in /usr/local/lib/python3.11/dist-packages (from aiohttp>=3.7.4.post0->web3) (25.3.0)\n",
            "Requirement already satisfied: frozenlist>=1.1.1 in /usr/local/lib/python3.11/dist-packages (from aiohttp>=3.7.4.post0->web3) (1.7.0)\n",
            "Requirement already satisfied: multidict<7.0,>=4.5 in /usr/local/lib/python3.11/dist-packages (from aiohttp>=3.7.4.post0->web3) (6.6.3)\n",
            "Requirement already satisfied: propcache>=0.2.0 in /usr/local/lib/python3.11/dist-packages (from aiohttp>=3.7.4.post0->web3) (0.3.2)\n",
            "Requirement already satisfied: yarl<2.0,>=1.17.0 in /usr/local/lib/python3.11/dist-packages (from aiohttp>=3.7.4.post0->web3) (1.20.1)\n",
            "Requirement already satisfied: parsimonious<0.11.0,>=0.10.0 in /usr/local/lib/python3.11/dist-packages (from eth-abi>=5.0.1->web3) (0.10.0)\n",
            "Requirement already satisfied: bitarray>=2.4.0 in /usr/local/lib/python3.11/dist-packages (from eth-account>=0.13.6->web3) (3.6.0)\n",
            "Requirement already satisfied: eth-keyfile<0.9.0,>=0.7.0 in /usr/local/lib/python3.11/dist-packages (from eth-account>=0.13.6->web3) (0.8.1)\n",
            "Requirement already satisfied: eth-keys>=0.4.0 in /usr/local/lib/python3.11/dist-packages (from eth-account>=0.13.6->web3) (0.7.0)\n",
            "Requirement already satisfied: eth-rlp>=2.1.0 in /usr/local/lib/python3.11/dist-packages (from eth-account>=0.13.6->web3) (2.2.0)\n",
            "Requirement already satisfied: rlp>=1.0.0 in /usr/local/lib/python3.11/dist-packages (from eth-account>=0.13.6->web3) (4.1.0)\n",
            "Requirement already satisfied: ckzg>=2.0.0 in /usr/local/lib/python3.11/dist-packages (from eth-account>=0.13.6->web3) (2.1.1)\n",
            "Requirement already satisfied: pycryptodome<4,>=3.6.6 in /usr/local/lib/python3.11/dist-packages (from eth-hash[pycryptodome]>=0.5.1->web3) (3.23.0)\n",
            "Requirement already satisfied: cytoolz>=0.10.1 in /usr/local/lib/python3.11/dist-packages (from eth-utils>=5.0.0->web3) (1.0.1)\n",
            "Requirement already satisfied: annotated-types>=0.6.0 in /usr/local/lib/python3.11/dist-packages (from pydantic>=2.4.0->web3) (0.7.0)\n",
            "Requirement already satisfied: pydantic-core==2.33.2 in /usr/local/lib/python3.11/dist-packages (from pydantic>=2.4.0->web3) (2.33.2)\n",
            "Requirement already satisfied: typing-inspection>=0.4.0 in /usr/local/lib/python3.11/dist-packages (from pydantic>=2.4.0->web3) (0.4.1)\n",
            "Requirement already satisfied: charset-normalizer<4,>=2 in /usr/local/lib/python3.11/dist-packages (from requests>=2.23.0->web3) (3.4.2)\n",
            "Requirement already satisfied: idna<4,>=2.5 in /usr/local/lib/python3.11/dist-packages (from requests>=2.23.0->web3) (3.10)\n",
            "Requirement already satisfied: urllib3<3,>=1.21.1 in /usr/local/lib/python3.11/dist-packages (from requests>=2.23.0->web3) (2.5.0)\n",
            "Requirement already satisfied: certifi>=2017.4.17 in /usr/local/lib/python3.11/dist-packages (from requests>=2.23.0->web3) (2025.7.14)\n",
            "Requirement already satisfied: toolz>=0.8.0 in /usr/local/lib/python3.11/dist-packages (from cytoolz>=0.10.1->eth-utils>=5.0.0->web3) (0.12.1)\n",
            "Requirement already satisfied: regex>=2022.3.15 in /usr/local/lib/python3.11/dist-packages (from parsimonious<0.11.0,>=0.10.0->eth-abi>=5.0.1->web3) (2024.11.6)\n",
            "Downloading python_dotenv-1.1.1-py3-none-any.whl (20 kB)\n",
            "Installing collected packages: python-dotenv\n",
            "Successfully installed python-dotenv-1.1.1\n",
            "<frozen runpy>:128: RuntimeWarning: 'solcx.install' found in sys.modules after import of package 'solcx', but prior to execution of 'solcx.install'; this may result in unpredictable behaviour\n"
          ]
        }
      ]
    },
    {
      "cell_type": "code",
      "source": [
        "from web3 import Web3\n",
        "import secrets\n",
        "\n",
        "# Generate a new test wallet (never use for mainnet!)\n",
        "private_key = \"0x\" + secrets.token_hex(32)\n",
        "account = Web3().eth.account.from_key(private_key)\n",
        "\n",
        "print(\"🔐 TEST WALLET (GOERLI ONLY)\")\n",
        "print(f\"Address: {account.address}\")\n",
        "print(f\"Private Key: {private_key}\")\n",
        "\n",
        "print(\"\\n⚠️ WARNING: Never use for real funds! Only for testing.\")"
      ],
      "metadata": {
        "colab": {
          "base_uri": "https://localhost:8080/"
        },
        "id": "BqVCswNlQTcV",
        "outputId": "f25ad889-1d6a-4f40-eea1-628b19c28183"
      },
      "execution_count": 40,
      "outputs": [
        {
          "output_type": "stream",
          "name": "stdout",
          "text": [
            "🔐 TEST WALLET (GOERLI ONLY)\n",
            "Address: 0x24e6D75c6a1C7994ab6F860D55d55b7F4F3AE6d2\n",
            "Private Key: 0xb8c67f4a7a70a6100e86b75c74f5698a5d33c0a0aa6eb001be7fab17a5eabc1f\n",
            "\n",
            "⚠️ WARNING: Never use for real funds! Only for testing.\n"
          ]
        },
        {
          "output_type": "stream",
          "name": "stderr",
          "text": [
            "<frozen importlib._bootstrap>:1047: ImportWarning: _PyDriveImportHook.find_spec() not found; falling back to find_module()\n"
          ]
        }
      ]
    },
    {
      "cell_type": "code",
      "source": [
        "# This code helps you sign up for a free key\n",
        "from IPython.display import HTML\n",
        "HTML('''\n",
        "<a href=\"https://dashboard.alchemy.com/signup\" target=\"_blank\">\n",
        "  <button style=\"background-color: #4CAF50; color: white; padding: 10px 20px; border: none; border-radius: 4px;\">\n",
        "    Get Free Alchemy API Key\n",
        "  </button>\n",
        "</a>\n",
        "<p>After signing up:</p>\n",
        "<ol>\n",
        "  <li>Create new \"Ethereum\" app in dashboard</li>\n",
        "  <li>Select \"Goerli\" network</li>\n",
        "  <li>Copy API Key from \"View Key\" button</li>\n",
        "</ol>\n",
        "''')"
      ],
      "metadata": {
        "colab": {
          "base_uri": "https://localhost:8080/",
          "height": 156
        },
        "id": "-dhqME8pUw7e",
        "outputId": "08c521de-8893-42da-f0e5-9469e813ca24"
      },
      "execution_count": 41,
      "outputs": [
        {
          "output_type": "execute_result",
          "data": {
            "text/plain": [
              "<IPython.core.display.HTML object>"
            ],
            "text/html": [
              "\n",
              "<a href=\"https://dashboard.alchemy.com/signup\" target=\"_blank\">\n",
              "  <button style=\"background-color: #4CAF50; color: white; padding: 10px 20px; border: none; border-radius: 4px;\">\n",
              "    Get Free Alchemy API Key\n",
              "  </button>\n",
              "</a>\n",
              "<p>After signing up:</p>\n",
              "<ol>\n",
              "  <li>Create new \"Ethereum\" app in dashboard</li>\n",
              "  <li>Select \"Goerli\" network</li>\n",
              "  <li>Copy API Key from \"View Key\" button</li>\n",
              "</ol>\n"
            ]
          },
          "metadata": {},
          "execution_count": 41
        }
      ]
    },
    {
      "cell_type": "code",
      "source": [
        "from web3 import Web3\n",
        "from solcx import compile_source\n",
        "\n",
        "ALCHEMY_API_KEY = \"https://eth-mainnet.g.alchemy.com/v2/1SgyFTcHX9839xUiLhNQ2\"  # From Alchemy dashboard\n",
        "PRIVATE_KEY = \"0xb8c67f4a7a70a6100e86b75c74f5698a5d33c0a0aa6eb001be7fab17a5eabc1f\"  # From generated wallet\n",
        "\n",
        "w3 = Web3(Web3.HTTPProvider(f\"https://eth-goerli.g.alchemy.com/v2/{ALCHEMY_API_KEY}\"))\n",
        "assert w3.is_connected(), \"Failed to connect!\"\n",
        "\n",
        "# Verify balance\n",
        "account = w3.eth.account.from_key(PRIVATE_KEY)\n",
        "balance = w3.from_wei(w3.eth.get_balance(account.address), 'ether')\n",
        "print(f\"Balance: {balance} ETH\")\n",
        "if balance < 0.01:\n",
        "    raise ValueError(\"Get test ETH from faucet first\")\n",
        "\n",
        "# Your contract code\n",
        "contract_source = \"\"\"[PASTE YOUR CONTRACT CODE HERE]\"\"\"\n",
        "\n",
        "# Compile & deploy\n",
        "compiled = compile_source(contract_source)\n",
        "contract_interface = compiled['<stdin>:Crowdfunding']\n",
        "\n",
        "tx = {\n",
        "    'nonce': w3.eth.get_transaction_count(account.address),\n",
        "    'gas': 3000000,\n",
        "    'gasPrice': w3.to_wei('50', 'gwei'),\n",
        "    'data': contract_interface['bin'],\n",
        "    'chainId': 5  # Goerli\n",
        "}\n",
        "\n",
        "signed_tx = account.sign_transaction(tx)\n",
        "tx_hash = w3.eth.send_raw_transaction(signed_tx.rawTransaction)\n",
        "receipt = w3.eth.wait_for_transaction_receipt(tx_hash)\n",
        "\n",
        "print(f\"Contract deployed at: {receipt.contractAddress}\")\n",
        "print(f\"🔗 Etherscan: https://goerli.etherscan.io/address/{receipt.contractAddress}\")"
      ],
      "metadata": {
        "colab": {
          "base_uri": "https://localhost:8080/",
          "height": 211
        },
        "id": "H35Kx-XxVjHA",
        "outputId": "cd98bc50-be17-4899-b691-bd769fb29e95"
      },
      "execution_count": 43,
      "outputs": [
        {
          "output_type": "error",
          "ename": "AssertionError",
          "evalue": "Failed to connect!",
          "traceback": [
            "\u001b[0;31m---------------------------------------------------------------------------\u001b[0m",
            "\u001b[0;31mAssertionError\u001b[0m                            Traceback (most recent call last)",
            "\u001b[0;32m/tmp/ipython-input-706948927.py\u001b[0m in \u001b[0;36m<cell line: 0>\u001b[0;34m()\u001b[0m\n\u001b[1;32m      8\u001b[0m \u001b[0;31m# Connect to Goerli\u001b[0m\u001b[0;34m\u001b[0m\u001b[0;34m\u001b[0m\u001b[0m\n\u001b[1;32m      9\u001b[0m \u001b[0mw3\u001b[0m \u001b[0;34m=\u001b[0m \u001b[0mWeb3\u001b[0m\u001b[0;34m(\u001b[0m\u001b[0mWeb3\u001b[0m\u001b[0;34m.\u001b[0m\u001b[0mHTTPProvider\u001b[0m\u001b[0;34m(\u001b[0m\u001b[0;34mf\"https://eth-goerli.g.alchemy.com/v2/{ALCHEMY_API_KEY}\"\u001b[0m\u001b[0;34m)\u001b[0m\u001b[0;34m)\u001b[0m\u001b[0;34m\u001b[0m\u001b[0;34m\u001b[0m\u001b[0m\n\u001b[0;32m---> 10\u001b[0;31m \u001b[0;32massert\u001b[0m \u001b[0mw3\u001b[0m\u001b[0;34m.\u001b[0m\u001b[0mis_connected\u001b[0m\u001b[0;34m(\u001b[0m\u001b[0;34m)\u001b[0m\u001b[0;34m,\u001b[0m \u001b[0;34m\"Failed to connect!\"\u001b[0m\u001b[0;34m\u001b[0m\u001b[0;34m\u001b[0m\u001b[0m\n\u001b[0m\u001b[1;32m     11\u001b[0m \u001b[0;34m\u001b[0m\u001b[0m\n\u001b[1;32m     12\u001b[0m \u001b[0;31m# Verify balance\u001b[0m\u001b[0;34m\u001b[0m\u001b[0;34m\u001b[0m\u001b[0m\n",
            "\u001b[0;31mAssertionError\u001b[0m: Failed to connect!"
          ]
        }
      ]
    },
    {
      "cell_type": "markdown",
      "source": [],
      "metadata": {
        "id": "CISJz84RW6nj"
      }
    },
    {
      "cell_type": "markdown",
      "source": [],
      "metadata": {
        "id": "klJwhJ3PVjMa"
      }
    }
  ]
}